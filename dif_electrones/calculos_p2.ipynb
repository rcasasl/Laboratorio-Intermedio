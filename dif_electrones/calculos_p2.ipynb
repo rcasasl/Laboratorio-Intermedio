{
 "cells": [
  {
   "cell_type": "code",
   "execution_count": 1,
   "metadata": {},
   "outputs": [],
   "source": [
    "import matplotlib.pyplot as plt\n",
    "import numpy as np"
   ]
  },
  {
   "cell_type": "code",
   "execution_count": 2,
   "metadata": {},
   "outputs": [],
   "source": [
    "U = np.array([2.2,2.5,2.8,3.1,3.4,3.7,4,4.3,4.6,4.9])\n",
    "D1 = np.array([3.6,3.5,3.2,3,2.8,2.8,2.6,2.6,2.4,2.4])\n",
    "D2 = np.array([6.4,5.6,5.4,5.2,4.8,4.6,4.56,4.4,4.2,4.2])"
   ]
  },
  {
   "cell_type": "code",
   "execution_count": 3,
   "metadata": {},
   "outputs": [],
   "source": [
    "def de_Broglie(V):\n",
    "    h = 6.62607015e-34\n",
    "    m = 9.11e-31\n",
    "    e = 1.6e-19\n",
    "    return h / np.sqrt(2 * m * e * V)"
   ]
  },
  {
   "cell_type": "code",
   "execution_count": 4,
   "metadata": {},
   "outputs": [],
   "source": [
    "def error_de_Broglie(V, dV=0.1):\n",
    "    h = 6.62607015e-34\n",
    "    m = 9.11e-31\n",
    "    e = 1.6e-19\n",
    "    return -1*h / np.sqrt(2 * m * e * V) * dV / (2*V**(-3/2))"
   ]
  },
  {
   "cell_type": "code",
   "execution_count": 5,
   "metadata": {},
   "outputs": [],
   "source": [
    "def Bragg(D1,D2,d1=213*10e-12,d2=123*10e-12):\n",
    "    a = 2*d1 * np.sin(D1/100/(2*0.135))\n",
    "    b = 2*d2 * np.sin(D2/100/(2*0.135))\n",
    "    return [a,b]"
   ]
  },
  {
   "cell_type": "code",
   "execution_count": 6,
   "metadata": {},
   "outputs": [],
   "source": [
    "def error_Bragg(D1,D2,d1=213*10e-12,d2=123*10e-12,e1=0.01,e2=0.01):\n",
    "    a = 2*d1 * np.cos(D1/100/(2*0.135)) /(2*0.135) * e1\n",
    "    b = 2*d2 * np.cos(D2/100/(2*0.135)) /(2*0.135) * e2\n",
    "    return [a,b]"
   ]
  },
  {
   "cell_type": "code",
   "execution_count": 7,
   "metadata": {},
   "outputs": [
    {
     "data": {
      "text/plain": [
       "array([8.27390464e-10, 7.76161055e-10, 7.33403260e-10, 6.97013203e-10,\n",
       "       6.65552614e-10, 6.38000457e-10, 6.13609191e-10, 5.91817256e-10,\n",
       "       5.72193521e-10, 5.54400753e-10])"
      ]
     },
     "execution_count": 7,
     "metadata": {},
     "output_type": "execute_result"
    }
   ],
   "source": [
    "Broglie = de_Broglie(U)\n",
    "Broglie"
   ]
  },
  {
   "cell_type": "code",
   "execution_count": 8,
   "metadata": {},
   "outputs": [
    {
     "data": {
      "text/plain": [
       "array([-1.34994022e-10, -1.53402298e-10, -1.71810573e-10, -1.90218849e-10,\n",
       "       -2.08627125e-10, -2.27035401e-10, -2.45443676e-10, -2.63851952e-10,\n",
       "       -2.82260228e-10, -3.00668504e-10])"
      ]
     },
     "execution_count": 8,
     "metadata": {},
     "output_type": "execute_result"
    }
   ],
   "source": [
    "edb = error_de_Broglie(U)\n",
    "edb"
   ]
  },
  {
   "cell_type": "code",
   "execution_count": 9,
   "metadata": {},
   "outputs": [
    {
     "data": {
      "text/plain": [
       "[array([5.66318532e-10, 5.50676945e-10, 5.03707720e-10, 4.72359997e-10,\n",
       "        4.40986357e-10, 4.40986357e-10, 4.09588519e-10, 4.09588519e-10,\n",
       "        3.78168208e-10, 3.78168208e-10]),\n",
       " array([5.77665930e-10, 5.06571973e-10, 4.88726554e-10, 4.70854318e-10,\n",
       "        4.35033322e-10, 4.17086527e-10, 4.13494391e-10, 3.99116847e-10,\n",
       "        3.81125268e-10, 3.81125268e-10])]"
      ]
     },
     "execution_count": 9,
     "metadata": {},
     "output_type": "execute_result"
    }
   ],
   "source": [
    "Bragg = Bragg(D1,D2)\n",
    "Bragg"
   ]
  },
  {
   "cell_type": "code",
   "execution_count": 10,
   "metadata": {},
   "outputs": [
    {
     "data": {
      "text/plain": [
       "[array([1.56377385e-10, 1.56453997e-10, 1.56670951e-10, 1.56804842e-10,\n",
       "        1.56930131e-10, 1.56930131e-10, 1.57046808e-10, 1.57046808e-10,\n",
       "        1.57154868e-10, 1.57154868e-10]),\n",
       " array([8.85634635e-11, 8.91584250e-11, 8.92949549e-11, 8.94265852e-11,\n",
       "        8.96751186e-11, 8.97920080e-11, 8.98147949e-11, 8.99039706e-11,\n",
       "        9.00110002e-11, 9.00110002e-11])]"
      ]
     },
     "execution_count": 10,
     "metadata": {},
     "output_type": "execute_result"
    }
   ],
   "source": [
    "ebg = error_Bragg(D1,D2)\n",
    "ebg"
   ]
  }
 ],
 "metadata": {
  "kernelspec": {
   "display_name": "Python 3",
   "language": "python",
   "name": "python3"
  },
  "language_info": {
   "codemirror_mode": {
    "name": "ipython",
    "version": 3
   },
   "file_extension": ".py",
   "mimetype": "text/x-python",
   "name": "python",
   "nbconvert_exporter": "python",
   "pygments_lexer": "ipython3",
   "version": "3.10.11"
  }
 },
 "nbformat": 4,
 "nbformat_minor": 2
}
