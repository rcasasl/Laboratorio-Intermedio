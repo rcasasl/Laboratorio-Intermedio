{
 "cells": [
  {
   "cell_type": "code",
   "execution_count": 1,
   "metadata": {},
   "outputs": [],
   "source": [
    "import numpy as np\n",
    "\n",
    "class linregress_w:\n",
    "    def __init__(self, x, y, dy):\n",
    "        self.x= x\n",
    "        self.y = y\n",
    "        self.dy = dy\n",
    "        self.w = 1/dy**2\n",
    "        self.D= np.sum(self.w*np.sum(self.w*(self.x**2))) - (np.sum(self.w*self.x))**2\n",
    "    def slope(self):\n",
    "        return (np.sum(self.w*np.sum(self.w*self.x*self.y))  -  np.sum(self.w*self.x*np.sum(self.w*self.y)))/self.D\n",
    "    def err_slope(self):\n",
    "        return np.sqrt(np.sum(self.w)/self.D)\n",
    "    def intercept(self):\n",
    "        return (np.sum(self.w*(self.x)**2*np.sum(self.w*self.y)) - np.sum(self.w*self.x*np.sum(self.w*self.x*self.y)))/self.D\n",
    "    def err_intercept(self):\n",
    "        return np.sqrt(np.sum(self.w*self.x**2)/self.D)\n",
    "\n"
   ]
  }
 ],
 "metadata": {
  "kernelspec": {
   "display_name": "Python 3",
   "language": "python",
   "name": "python3"
  },
  "language_info": {
   "codemirror_mode": {
    "name": "ipython",
    "version": 3
   },
   "file_extension": ".py",
   "mimetype": "text/x-python",
   "name": "python",
   "nbconvert_exporter": "python",
   "pygments_lexer": "ipython3",
   "version": "3.11.6"
  }
 },
 "nbformat": 4,
 "nbformat_minor": 2
}
