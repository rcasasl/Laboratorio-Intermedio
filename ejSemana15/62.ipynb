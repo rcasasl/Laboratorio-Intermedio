{
 "cells": [
  {
   "cell_type": "code",
   "execution_count": 333,
   "metadata": {},
   "outputs": [],
   "source": [
    "import numpy as np\n",
    "import matplotlib.pyplot as plt"
   ]
  },
  {
   "cell_type": "code",
   "execution_count": 334,
   "metadata": {},
   "outputs": [],
   "source": [
    "frecuencia = np.array([1,2,3,4,5,6,7,8,9,10])\n",
    "voltaje = np.array([51,103,150,199,251,303,347,398,452,512])\n",
    "error = np.array([1,8,8,8,8,8,8,8,8,1])"
   ]
  },
  {
   "cell_type": "code",
   "execution_count": 335,
   "metadata": {},
   "outputs": [],
   "source": [
    "def calcular_c(err,x,y):\n",
    "\n",
    "    #calculo w\n",
    "    w = 1/np.square(err)\n",
    "\n",
    "    #terminos suma\n",
    "    a = np.sum(w*np.square(x))\n",
    "    b = np.sum(w*y)\n",
    "    c = np.sum(w*x)\n",
    "    d = np.sum(w*x*y)\n",
    "\n",
    "    #terminos delta\n",
    "    e = np.sum(w)\n",
    "    f = np.sum(w*np.square(x))\n",
    "    g = np.square(np.sum(w*x))\n",
    "    delta = f*e - g\n",
    "\n",
    "    #calculo c\n",
    "    c = (a*b - c*d)/delta\n",
    "\n",
    "    return c"
   ]
  },
  {
   "cell_type": "code",
   "execution_count": 336,
   "metadata": {},
   "outputs": [],
   "source": [
    "def calcular_m(err,x,y):\n",
    "\n",
    "    #calculo w\n",
    "    w = 1/np.square(err)\n",
    "\n",
    "    #terminos suma\n",
    "    a = np.sum(w)\n",
    "    b = np.sum(w*x*y)\n",
    "    c = np.sum(w*x)\n",
    "    d = np.sum(w*y)\n",
    "\n",
    "    #terminos delta\n",
    "    e = np.sum(w)\n",
    "    f = np.sum(w*np.square(x))\n",
    "    g = np.square(np.sum(w*x))\n",
    "    delta = f*e - g\n",
    "\n",
    "    #calculo m\n",
    "    m = (a*b - c*d)/delta\n",
    "\n",
    "    return m"
   ]
  },
  {
   "cell_type": "code",
   "execution_count": 337,
   "metadata": {},
   "outputs": [],
   "source": [
    "def calcular_ac(err,x):\n",
    "\n",
    "    #calculo w\n",
    "    w = 1/np.square(err)\n",
    "\n",
    "    #terminos suma\n",
    "    a = np.sum(w*np.square(x))\n",
    "\n",
    "    #terminos delta\n",
    "    e = np.sum(w)\n",
    "    f = np.sum(w*np.square(x))\n",
    "    g = np.square(np.sum(w*x))\n",
    "    delta = f*e - g\n",
    "\n",
    "    #calculo ac\n",
    "    ac = np.sqrt(a/delta)\n",
    "\n",
    "    return ac"
   ]
  },
  {
   "cell_type": "code",
   "execution_count": 338,
   "metadata": {},
   "outputs": [],
   "source": [
    "def calcular_am(err,x):\n",
    "    \n",
    "        #calculo w\n",
    "        w = 1/np.square(err)\n",
    "    \n",
    "        #terminos suma\n",
    "        a = np.sum(w)\n",
    "\n",
    "        #terminos delta\n",
    "        e = np.sum(w)\n",
    "        f = np.sum(w*np.square(x))\n",
    "        g = np.square(np.sum(w*x))\n",
    "        delta = f*e - g\n",
    "    \n",
    "        #calculo am\n",
    "        am = np.sqrt(a/delta)\n",
    "    \n",
    "        return am"
   ]
  },
  {
   "cell_type": "code",
   "execution_count": 339,
   "metadata": {},
   "outputs": [],
   "source": [
    "c = calcular_c(error,frecuencia,voltaje)\n",
    "m = calcular_m(error,frecuencia,voltaje)\n",
    "ac = calcular_ac(error,frecuencia)\n",
    "am = calcular_am(error,frecuencia)"
   ]
  },
  {
   "cell_type": "code",
   "execution_count": 340,
   "metadata": {},
   "outputs": [
    {
     "data": {
      "text/plain": [
       "-0.45340345705480367"
      ]
     },
     "execution_count": 340,
     "metadata": {},
     "output_type": "execute_result"
    }
   ],
   "source": [
    "c"
   ]
  },
  {
   "cell_type": "code",
   "execution_count": 341,
   "metadata": {},
   "outputs": [
    {
     "data": {
      "text/plain": [
       "51.19874715261959"
      ]
     },
     "execution_count": 341,
     "metadata": {},
     "output_type": "execute_result"
    }
   ],
   "source": [
    "m"
   ]
  },
  {
   "cell_type": "code",
   "execution_count": 342,
   "metadata": {},
   "outputs": [
    {
     "data": {
      "text/plain": [
       "1.0979945499870805"
      ]
     },
     "execution_count": 342,
     "metadata": {},
     "output_type": "execute_result"
    }
   ],
   "source": [
    "ac"
   ]
  },
  {
   "cell_type": "code",
   "execution_count": 343,
   "metadata": {},
   "outputs": [
    {
     "data": {
      "text/plain": [
       "0.155877022570768"
      ]
     },
     "execution_count": 343,
     "metadata": {},
     "output_type": "execute_result"
    }
   ],
   "source": [
    "am"
   ]
  },
  {
   "cell_type": "code",
   "execution_count": 344,
   "metadata": {},
   "outputs": [
    {
     "data": {
      "image/png": "[encoded data removed]",
      "text/plain": [
       "<Figure size 640x480 with 1 Axes>"
      ]
     },
     "metadata": {},
     "output_type": "display_data"
    }
   ],
   "source": [
    "model = c + m*frecuencia\n",
    "residuals = voltaje-model\n",
    "normalized_residuals = residuals/error\n",
    "lagged = np.roll(normalized_residuals, -1)\n",
    "plt.plot(normalized_residuals, lagged, 'o')\n",
    "plt.grid()\n",
    "plt.show()"
   ]
  },
  {
   "cell_type": "code",
   "execution_count": 345,
   "metadata": {},
   "outputs": [],
   "source": [
    "def Durbin_Watson(residuals):\n",
    "    return np.sum(np.square(normalized_residuals-lagged))/np.sum(normalized_residuals**2)"
   ]
  },
  {
   "cell_type": "code",
   "execution_count": 346,
   "metadata": {},
   "outputs": [
    {
     "data": {
      "text/plain": [
       "0.5743548475844165"
      ]
     },
     "execution_count": 346,
     "metadata": {},
     "output_type": "execute_result"
    }
   ],
   "source": [
    "D = Durbin_Watson(residuals)\n",
    "D"
   ]
  },
  {
   "cell_type": "code",
   "execution_count": 347,
   "metadata": {},
   "outputs": [
    {
     "data": {
      "image/png": "[encoded data removed]",
      "text/plain": [
       "<Figure size 640x480 with 1 Axes>"
      ]
     },
     "metadata": {},
     "output_type": "display_data"
    }
   ],
   "source": [
    "plt.scatter(frecuencia,voltaje,color='red')\n",
    "plt.plot(frecuencia,model,color='red')\n",
    "plt.errorbar(frecuencia,voltaje,error,fmt='o',color='black')\n",
    "plt.grid()\n",
    "plt.show()"
   ]
  },
  {
   "cell_type": "code",
   "execution_count": 348,
   "metadata": {},
   "outputs": [
    {
     "data": {
      "image/png": "[encoded data removed]",
      "text/plain": [
       "<Figure size 640x480 with 1 Axes>"
      ]
     },
     "metadata": {},
     "output_type": "display_data"
    }
   ],
   "source": [
    "plt.scatter(frecuencia,normalized_residuals,color='black')\n",
    "plt.grid()\n",
    "plt.show()"
   ]
  },
  {
   "cell_type": "code",
   "execution_count": 349,
   "metadata": {},
   "outputs": [],
   "source": [
    "def chi2(M, C):\n",
    "    res = ((voltaje - (M * frecuencia + C)) / error) ** 2\n",
    "    return np.sum(res)"
   ]
  },
  {
   "cell_type": "code",
   "execution_count": 350,
   "metadata": {},
   "outputs": [],
   "source": [
    "M_values = np.linspace(1, 3, 1000)\n",
    "C_values = np.linspace(-1, 1, 1000)\n",
    "best_chi = np.inf\n",
    "# Calculate chi-squared for each combination of parameters\n",
    "chi2_grid = np.zeros((len(M_values), len(C_values)))\n",
    "for i, M in enumerate(M_values):\n",
    "    for j, C in enumerate(C_values):\n",
    "        chi2_grid[i, j] = chi2(M, C)\n",
    "        if chi2_grid[i, j] < best_chi:\n",
    "            best_chi = chi2_grid[i, j]\n",
    "            best_M = M\n",
    "            best_C = C"
   ]
  },
  {
   "cell_type": "code",
   "execution_count": 351,
   "metadata": {},
   "outputs": [
    {
     "data": {
      "text/plain": [
       "3.0"
      ]
     },
     "execution_count": 351,
     "metadata": {},
     "output_type": "execute_result"
    }
   ],
   "source": [
    "best_M"
   ]
  },
  {
   "cell_type": "code",
   "execution_count": 352,
   "metadata": {},
   "outputs": [
    {
     "data": {
      "text/plain": [
       "1.0"
      ]
     },
     "execution_count": 352,
     "metadata": {},
     "output_type": "execute_result"
    }
   ],
   "source": [
    "best_C"
   ]
  },
  {
   "cell_type": "code",
   "execution_count": 353,
   "metadata": {},
   "outputs": [
    {
     "data": {
      "text/plain": [
       "243317.234375"
      ]
     },
     "execution_count": 353,
     "metadata": {},
     "output_type": "execute_result"
    }
   ],
   "source": [
    "best_chi"
   ]
  },
  {
   "cell_type": "code",
   "execution_count": 354,
   "metadata": {},
   "outputs": [
    {
     "data": {
      "text/plain": [
       "<matplotlib.contour.QuadContourSet at 0x23b8591d180>"
      ]
     },
     "execution_count": 354,
     "metadata": {},
     "output_type": "execute_result"
    },
    {
     "data": {
      "image/png": "[encoded data removed]",
      "text/plain": [
       "<Figure size 640x480 with 1 Axes>"
      ]
     },
     "metadata": {},
     "output_type": "display_data"
    }
   ],
   "source": [
    "contour_levels = [best_chi + 1]  # Change in chi-squared of 1\n",
    "plt.contour(M_values, C_values, chi2_grid, levels=contour_levels, colors='r')"
   ]
  },
  {
   "cell_type": "code",
   "execution_count": 355,
   "metadata": {},
   "outputs": [
    {
     "name": "stdout",
     "output_type": "stream",
     "text": [
      "1\n",
      "2\n",
      "3\n",
      "4\n",
      "5\n",
      "6\n",
      "7\n",
      "8\n",
      "9\n",
      "10\n",
      "11\n",
      "12\n",
      "13\n",
      "14\n",
      "15\n",
      "16\n",
      "17\n",
      "18\n",
      "19\n",
      "20\n",
      "21\n",
      "22\n",
      "23\n",
      "24\n",
      "25\n",
      "26\n",
      "27\n",
      "28\n",
      "29\n",
      "30\n",
      "31\n",
      "32\n",
      "33\n",
      "34\n",
      "35\n",
      "36\n",
      "37\n",
      "38\n",
      "39\n",
      "40\n",
      "41\n",
      "42\n",
      "43\n",
      "44\n",
      "45\n",
      "46\n",
      "47\n",
      "48\n",
      "49\n",
      "50\n",
      "51\n",
      "52\n",
      "53\n",
      "54\n",
      "55\n",
      "56\n",
      "57\n",
      "58\n",
      "59\n",
      "60\n",
      "61\n",
      "62\n",
      "63\n",
      "64\n",
      "65\n",
      "66\n",
      "67\n",
      "68\n",
      "69\n",
      "70\n",
      "71\n",
      "72\n",
      "73\n",
      "74\n",
      "75\n",
      "76\n",
      "77\n",
      "78\n",
      "79\n",
      "80\n",
      "81\n",
      "82\n",
      "83\n",
      "84\n",
      "85\n",
      "86\n"
     ]
    },
    {
     "ename": "",
     "evalue": "",
     "output_type": "error",
     "traceback": [
      "\u001b[1;31mThe Kernel crashed while executing code in the current cell or a previous cell. \n",
      "\u001b[1;31mPlease review the code in the cell(s) to identify a possible cause of the failure. \n",
      "\u001b[1;31mClick <a href='https://aka.ms/vscodeJupyterKernelCrash'>here</a> for more info. \n",
      "\u001b[1;31mView Jupyter <a href='command:jupyter.viewOutput'>log</a> for further details."
     ]
    }
   ],
   "source": [
    "\n",
    "M_values = np.linspace(1, 3, 500)\n",
    "C_values = np.linspace(-1, 1, 500)\n",
    "best_C_array = np.full_like(M_values, best_C)\n",
    "best_chi2_anterior = np.inf\n",
    "diffChi2 = np.inf\n",
    "best_chi2 = best_chi\n",
    "k = 0\n",
    "\n",
    "while (diffChi2 > 10e-2 and k < 100):\n",
    "\n",
    "    k += 1\n",
    "\n",
    "    best_diff = np.inf\n",
    "    # Minimizar chi2 para M\n",
    "    chi2_grid = np.zeros((len(M_values), len(best_C_array)))\n",
    "\n",
    "    for i, M in enumerate(M_values):\n",
    "        for j, C in enumerate(best_C_array):\n",
    "\n",
    "            chi2_grid[i, j] = chi2(M, C)\n",
    "            diff = abs(chi2_grid[i, j] - (best_chi2+1))\n",
    "            if diff < best_diff:\n",
    "                best_chi2 = chi2_grid[i, j]\n",
    "                best_M2 = M\n",
    "                best_diff = diff\n",
    "\n",
    "    # Minimizar chi2 para lo que no es M\n",
    "\n",
    "    best_M_array = np.full_like(C_values, best_M2)\n",
    "\n",
    "    chi2_grid = np.zeros((len(best_M_array), len(C_values)))\n",
    "\n",
    "    for i, M in enumerate(best_M_array):\n",
    "        for j, C in enumerate(C_values):\n",
    "            \n",
    "            chi2_grid[i, j] = chi2(M, C)\n",
    "            if chi2_grid[i, j] < best_chi2:\n",
    "                best_chi2 = chi2_grid[i, j]\n",
    "                best_C2 = C\n",
    "\n",
    "    diffChi2 = abs(best_chi2 - best_chi2_anterior)\n",
    "\n",
    "    best_C_array = np.full_like(M_values, best_C2)\n",
    "\n",
    "    print(k)\n",
    "\n",
    "diffM = abs(best_M2 - best_M)\n",
    "diffM"
   ]
  },
  {
   "cell_type": "code",
   "execution_count": null,
   "metadata": {},
   "outputs": [
    {
     "name": "stdout",
     "output_type": "stream",
     "text": [
      "1000\n"
     ]
    }
   ],
   "source": [
    "best = best_chi\n",
    "previous_best = float('inf')\n",
    "previous_diff = float('inf')\n",
    "i = 0\n",
    "while (i<1000):\n",
    "    M_values = np.linspace(1, 3, 1000)\n",
    "    C = best_C\n",
    "    best_chi2_n = float('inf')\n",
    "    best_params = None\n",
    "\n",
    "    # busca mejor parametro\n",
    "    for M in M_values:\n",
    "            current_chi2 = chi2(M, C)\n",
    "            diff = abs(current_chi2 - (best+1))\n",
    "            if diff < 0.05 and diff < previous_diff:\n",
    "                best_chi2_n = current_chi2\n",
    "                M_best2 = M\n",
    "\n",
    "    previous_best = best\n",
    "    previous_diff = diff\n",
    "    best = chi2(M_best2, C)\n",
    "    i += 1\n",
    "\n",
    "\n",
    "print(i)\n",
    "difM = abs(M_best2 - best_M)\n",
    "\n",
    "best = best_chi\n",
    "previous_best = float('inf')\n",
    "previous_diff = float('inf')\n",
    "i = 0\n",
    "while (i<1000):\n",
    "    C_values = np.linspace(-1, 1, 1000)\n",
    "    M = best_M\n",
    "    best_chi2_n = float('inf')\n",
    "    best_params = None\n",
    "\n",
    "    # busca mejor parametro\n",
    "    for C in C_values:\n",
    "            current_chi2 = chi2(M, C)\n",
    "            diff = abs(current_chi2 - (best+1))\n",
    "            if diff < 0.05 and diff < previous_diff:\n",
    "                best_chi2_n = current_chi2\n",
    "                C_best2 = C\n",
    "\n",
    "    previous_best = best\n",
    "    previous_diff = diff\n",
    "    best = chi2(M, C_best2)\n",
    "    i += 1\n",
    "\n",
    "difC = abs(C_best2 - best_C)\n"
   ]
  },
  {
   "cell_type": "code",
   "execution_count": null,
   "metadata": {},
   "outputs": [
    {
     "data": {
      "text/plain": [
       "0.026026026026026106"
      ]
     },
     "execution_count": 285,
     "metadata": {},
     "output_type": "execute_result"
    }
   ],
   "source": [
    "difM"
   ]
  },
  {
   "cell_type": "code",
   "execution_count": null,
   "metadata": {},
   "outputs": [
    {
     "data": {
      "text/plain": [
       "0.02202202202202197"
      ]
     },
     "execution_count": 286,
     "metadata": {},
     "output_type": "execute_result"
    }
   ],
   "source": [
    "difC"
   ]
  }
 ],
 "metadata": {
  "kernelspec": {
   "display_name": "Python 3",
   "language": "python",
   "name": "python3"
  },
  "language_info": {
   "codemirror_mode": {
    "name": "ipython",
    "version": 3
   },
   "file_extension": ".py",
   "mimetype": "text/x-python",
   "name": "python",
   "nbconvert_exporter": "python",
   "pygments_lexer": "ipython3",
   "version": "3.10.11"
  }
 },
 "nbformat": 4,
 "nbformat_minor": 2
}
