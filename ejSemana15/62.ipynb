{
 "cells": [
  {
   "cell_type": "code",
   "execution_count": 47,
   "metadata": {},
   "outputs": [],
   "source": [
    "import numpy as np\n",
    "import matplotlib.pyplot as plt"
   ]
  },
  {
   "cell_type": "code",
   "execution_count": 48,
   "metadata": {},
   "outputs": [],
   "source": [
    "frecuencia = np.array([0.05,0.25,0.45,0.65,0.85,1.05,1.25,1.45,1.65,1.85])\n",
    "voltaje = np.array([0,0.21,0.44,0.67,0.88,1.1,1.3,1.5,2,2.24])\n",
    "error = np.array([0.05,0.05,0.05,0.05,0.09,0.1,0.2,0.5,0.1,0.07])"
   ]
  },
  {
   "cell_type": "code",
   "execution_count": 49,
   "metadata": {},
   "outputs": [],
   "source": [
    "def calcular_c(err,x,y):\n",
    "\n",
    "    #calculo w\n",
    "    w = 1/np.square(err)\n",
    "\n",
    "    #terminos suma\n",
    "    a = np.sum(w*np.square(x))\n",
    "    b = np.sum(w*y)\n",
    "    c = np.sum(w*x)\n",
    "    d = np.sum(w*x*y)\n",
    "\n",
    "    #terminos delta\n",
    "    e = np.sum(w)\n",
    "    f = np.sum(w*np.square(x))\n",
    "    g = np.square(np.sum(w*x))\n",
    "    delta = f*e - g\n",
    "\n",
    "    #calculo c\n",
    "    c = (a*b - c*d)/delta\n",
    "\n",
    "    return c"
   ]
  },
  {
   "cell_type": "code",
   "execution_count": 50,
   "metadata": {},
   "outputs": [],
   "source": [
    "def calcular_m(err,x,y):\n",
    "\n",
    "    #calculo w\n",
    "    w = 1/np.square(err)\n",
    "\n",
    "    #terminos suma\n",
    "    a = np.sum(w)\n",
    "    b = np.sum(w*x*y)\n",
    "    c = np.sum(w*x)\n",
    "    d = np.sum(w*y)\n",
    "\n",
    "    #terminos delta\n",
    "    e = np.sum(w)\n",
    "    f = np.sum(w*np.square(x))\n",
    "    g = np.square(np.sum(w*x))\n",
    "    delta = f*e - g\n",
    "\n",
    "    #calculo m\n",
    "    m = (a*b - c*d)/delta\n",
    "\n",
    "    return m"
   ]
  },
  {
   "cell_type": "code",
   "execution_count": 51,
   "metadata": {},
   "outputs": [],
   "source": [
    "def calcular_ac(err,x):\n",
    "\n",
    "    #calculo w\n",
    "    w = 1/np.square(err)\n",
    "\n",
    "    #terminos suma\n",
    "    a = np.sum(w*np.square(x))\n",
    "\n",
    "    #terminos delta\n",
    "    e = np.sum(w)\n",
    "    f = np.sum(w*np.square(x))\n",
    "    g = np.square(np.sum(w*x))\n",
    "    delta = f*e - g\n",
    "\n",
    "    #calculo ac\n",
    "    ac = np.sqrt(a/delta)\n",
    "\n",
    "    return ac"
   ]
  },
  {
   "cell_type": "code",
   "execution_count": 52,
   "metadata": {},
   "outputs": [],
   "source": [
    "def calcular_am(err,x):\n",
    "    \n",
    "        #calculo w\n",
    "        w = 1/np.square(err)\n",
    "    \n",
    "        #terminos suma\n",
    "        a = np.sum(w)\n",
    "\n",
    "        #terminos delta\n",
    "        e = np.sum(w)\n",
    "        f = np.sum(w*np.square(x))\n",
    "        g = np.square(np.sum(w*x))\n",
    "        delta = f*e - g\n",
    "    \n",
    "        #calculo am\n",
    "        am = np.sqrt(a/delta)\n",
    "    \n",
    "        return am"
   ]
  },
  {
   "cell_type": "code",
   "execution_count": 53,
   "metadata": {},
   "outputs": [],
   "source": [
    "c = calcular_c(error,frecuencia,voltaje)\n",
    "m = calcular_m(error,frecuencia,voltaje)\n",
    "ac = calcular_ac(error,frecuencia)\n",
    "am = calcular_am(error,frecuencia)"
   ]
  },
  {
   "cell_type": "code",
   "execution_count": 54,
   "metadata": {},
   "outputs": [
    {
     "data": {
      "text/plain": [
       "-0.10700883885508011"
      ]
     },
     "execution_count": 54,
     "metadata": {},
     "output_type": "execute_result"
    }
   ],
   "source": [
    "c"
   ]
  },
  {
   "cell_type": "code",
   "execution_count": 55,
   "metadata": {},
   "outputs": [
    {
     "data": {
      "text/plain": [
       "1.2397219665412587"
      ]
     },
     "execution_count": 55,
     "metadata": {},
     "output_type": "execute_result"
    }
   ],
   "source": [
    "m"
   ]
  },
  {
   "cell_type": "code",
   "execution_count": 56,
   "metadata": {},
   "outputs": [
    {
     "data": {
      "text/plain": [
       "0.03266514103078884"
      ]
     },
     "execution_count": 56,
     "metadata": {},
     "output_type": "execute_result"
    }
   ],
   "source": [
    "ac"
   ]
  },
  {
   "cell_type": "code",
   "execution_count": 57,
   "metadata": {},
   "outputs": [
    {
     "data": {
      "text/plain": [
       "0.03925005362824148"
      ]
     },
     "execution_count": 57,
     "metadata": {},
     "output_type": "execute_result"
    }
   ],
   "source": [
    "am"
   ]
  },
  {
   "cell_type": "code",
   "execution_count": 58,
   "metadata": {},
   "outputs": [
    {
     "data": {
      "image/png": "[encoded data removed]",
      "text/plain": [
       "<Figure size 640x480 with 1 Axes>"
      ]
     },
     "metadata": {},
     "output_type": "display_data"
    }
   ],
   "source": [
    "model = c + m*frecuencia\n",
    "residuals = voltaje-model\n",
    "normalized_residuals = residuals/error\n",
    "lagged = np.roll(normalized_residuals, -1)\n",
    "plt.plot(normalized_residuals, lagged, 'o')\n",
    "plt.grid()\n",
    "plt.show()"
   ]
  },
  {
   "cell_type": "code",
   "execution_count": 59,
   "metadata": {},
   "outputs": [],
   "source": [
    "def Durbin_Watson(residuals):\n",
    "    return np.sum(np.square(normalized_residuals-lagged))/np.sum(normalized_residuals**2)"
   ]
  },
  {
   "cell_type": "code",
   "execution_count": 60,
   "metadata": {},
   "outputs": [
    {
     "data": {
      "text/plain": [
       "0.4915421139006422"
      ]
     },
     "execution_count": 60,
     "metadata": {},
     "output_type": "execute_result"
    }
   ],
   "source": [
    "D = Durbin_Watson(residuals)\n",
    "D"
   ]
  },
  {
   "cell_type": "code",
   "execution_count": 61,
   "metadata": {},
   "outputs": [
    {
     "data": {
      "image/png": "[encoded data removed]",
      "text/plain": [
       "<Figure size 640x480 with 1 Axes>"
      ]
     },
     "metadata": {},
     "output_type": "display_data"
    }
   ],
   "source": [
    "plt.scatter(frecuencia,voltaje,color='red')\n",
    "plt.plot(frecuencia,model,color='red')\n",
    "plt.errorbar(frecuencia,voltaje,error,fmt='o',color='black')\n",
    "plt.grid()\n",
    "plt.show()"
   ]
  },
  {
   "cell_type": "code",
   "execution_count": 62,
   "metadata": {},
   "outputs": [
    {
     "data": {
      "image/png": "[encoded data removed]",
      "text/plain": [
       "<Figure size 640x480 with 1 Axes>"
      ]
     },
     "metadata": {},
     "output_type": "display_data"
    }
   ],
   "source": [
    "plt.scatter(frecuencia,normalized_residuals,color='black')\n",
    "plt.grid()\n",
    "plt.show()"
   ]
  },
  {
   "cell_type": "code",
   "execution_count": 63,
   "metadata": {},
   "outputs": [],
   "source": [
    "def chi2(M, C):\n",
    "    res = ((voltaje - (M * frecuencia + C)) / error) ** 2\n",
    "    return np.sum(res)"
   ]
  },
  {
   "cell_type": "code",
   "execution_count": 64,
   "metadata": {},
   "outputs": [],
   "source": [
    "M_values = np.linspace(1, 3, 1000)\n",
    "C_values = np.linspace(-1, 1, 1000)\n",
    "best_chi = np.inf\n",
    "# Calculate chi-squared for each combination of parameters\n",
    "chi2_grid = np.zeros((len(M_values), len(C_values)))\n",
    "for i, M in enumerate(M_values):\n",
    "    for j, C in enumerate(C_values):\n",
    "        chi2_grid[i, j] = chi2(M, C)\n",
    "        if chi2_grid[i, j] < best_chi:\n",
    "            best_chi = chi2_grid[i, j]\n",
    "            best_M = M\n",
    "            best_C = C"
   ]
  },
  {
   "cell_type": "code",
   "execution_count": 65,
   "metadata": {},
   "outputs": [
    {
     "data": {
      "text/plain": [
       "1.2402402402402402"
      ]
     },
     "execution_count": 65,
     "metadata": {},
     "output_type": "execute_result"
    }
   ],
   "source": [
    "best_M"
   ]
  },
  {
   "cell_type": "code",
   "execution_count": 66,
   "metadata": {},
   "outputs": [
    {
     "data": {
      "text/plain": [
       "-0.10710710710710714"
      ]
     },
     "execution_count": 66,
     "metadata": {},
     "output_type": "execute_result"
    }
   ],
   "source": [
    "best_C"
   ]
  },
  {
   "cell_type": "code",
   "execution_count": 67,
   "metadata": {},
   "outputs": [
    {
     "data": {
      "text/plain": [
       "4.273774137517402"
      ]
     },
     "execution_count": 67,
     "metadata": {},
     "output_type": "execute_result"
    }
   ],
   "source": [
    "best_chi"
   ]
  },
  {
   "cell_type": "code",
   "execution_count": 68,
   "metadata": {},
   "outputs": [
    {
     "data": {
      "text/plain": [
       "<matplotlib.contour.QuadContourSet at 0x10e7900d0>"
      ]
     },
     "execution_count": 68,
     "metadata": {},
     "output_type": "execute_result"
    },
    {
     "data": {
      "image/png": "[encoded data removed]",
      "text/plain": [
       "<Figure size 640x480 with 1 Axes>"
      ]
     },
     "metadata": {},
     "output_type": "display_data"
    }
   ],
   "source": [
    "contour_levels = [best_chi + 1]  # Change in chi-squared of 1\n",
    "plt.contour(M_values, C_values, chi2_grid, levels=contour_levels, colors='r')"
   ]
  },
  {
   "cell_type": "code",
   "execution_count": 69,
   "metadata": {},
   "outputs": [
    {
     "name": "stdout",
     "output_type": "stream",
     "text": [
      "1\n",
      "2\n",
      "3\n",
      "4\n",
      "5\n",
      "6\n",
      "7\n",
      "8\n",
      "9\n",
      "10\n",
      "11\n",
      "12\n",
      "13\n",
      "14\n",
      "15\n",
      "16\n",
      "17\n",
      "18\n",
      "19\n",
      "20\n",
      "21\n",
      "22\n",
      "23\n",
      "24\n",
      "25\n",
      "26\n",
      "27\n",
      "28\n",
      "29\n",
      "30\n",
      "31\n",
      "32\n",
      "33\n",
      "34\n",
      "35\n",
      "36\n",
      "37\n",
      "38\n",
      "39\n",
      "40\n",
      "41\n",
      "42\n",
      "43\n",
      "44\n",
      "45\n",
      "46\n",
      "47\n",
      "48\n",
      "49\n",
      "50\n",
      "51\n",
      "52\n",
      "53\n",
      "54\n",
      "55\n",
      "56\n",
      "57\n",
      "58\n",
      "59\n",
      "60\n",
      "61\n",
      "62\n",
      "63\n",
      "64\n",
      "65\n",
      "66\n",
      "67\n",
      "68\n",
      "69\n"
     ]
    },
    {
     "ename": "KeyboardInterrupt",
     "evalue": "",
     "output_type": "error",
     "traceback": [
      "\u001b[0;31m---------------------------------------------------------------------------\u001b[0m",
      "\u001b[0;31mKeyboardInterrupt\u001b[0m                         Traceback (most recent call last)",
      "Cell \u001b[0;32mIn[69], line 20\u001b[0m\n\u001b[1;32m     17\u001b[0m \u001b[38;5;28;01mfor\u001b[39;00m i, M \u001b[38;5;129;01min\u001b[39;00m \u001b[38;5;28menumerate\u001b[39m(M_values):\n\u001b[1;32m     18\u001b[0m     \u001b[38;5;28;01mfor\u001b[39;00m j, C \u001b[38;5;129;01min\u001b[39;00m \u001b[38;5;28menumerate\u001b[39m(best_C_array):\n\u001b[0;32m---> 20\u001b[0m         chi2_grid[i, j] \u001b[38;5;241m=\u001b[39m \u001b[43mchi2\u001b[49m\u001b[43m(\u001b[49m\u001b[43mM\u001b[49m\u001b[43m,\u001b[49m\u001b[43m \u001b[49m\u001b[43mC\u001b[49m\u001b[43m)\u001b[49m\n\u001b[1;32m     21\u001b[0m         diff \u001b[38;5;241m=\u001b[39m \u001b[38;5;28mabs\u001b[39m(chi2_grid[i, j] \u001b[38;5;241m-\u001b[39m (best_chi2\u001b[38;5;241m+\u001b[39m\u001b[38;5;241m1\u001b[39m))\n\u001b[1;32m     22\u001b[0m         \u001b[38;5;28;01mif\u001b[39;00m diff \u001b[38;5;241m<\u001b[39m best_diff:\n",
      "Cell \u001b[0;32mIn[63], line 3\u001b[0m, in \u001b[0;36mchi2\u001b[0;34m(M, C)\u001b[0m\n\u001b[1;32m      1\u001b[0m \u001b[38;5;28;01mdef\u001b[39;00m \u001b[38;5;21mchi2\u001b[39m(M, C):\n\u001b[1;32m      2\u001b[0m     res \u001b[38;5;241m=\u001b[39m ((voltaje \u001b[38;5;241m-\u001b[39m (M \u001b[38;5;241m*\u001b[39m frecuencia \u001b[38;5;241m+\u001b[39m C)) \u001b[38;5;241m/\u001b[39m error) \u001b[38;5;241m*\u001b[39m\u001b[38;5;241m*\u001b[39m \u001b[38;5;241m2\u001b[39m\n\u001b[0;32m----> 3\u001b[0m     \u001b[38;5;28;01mreturn\u001b[39;00m \u001b[43mnp\u001b[49m\u001b[38;5;241;43m.\u001b[39;49m\u001b[43msum\u001b[49m\u001b[43m(\u001b[49m\u001b[43mres\u001b[49m\u001b[43m)\u001b[49m\n",
      "File \u001b[0;32m/opt/homebrew/lib/python3.11/site-packages/numpy/core/fromnumeric.py:2313\u001b[0m, in \u001b[0;36msum\u001b[0;34m(a, axis, dtype, out, keepdims, initial, where)\u001b[0m\n\u001b[1;32m   2310\u001b[0m         \u001b[38;5;28;01mreturn\u001b[39;00m out\n\u001b[1;32m   2311\u001b[0m     \u001b[38;5;28;01mreturn\u001b[39;00m res\n\u001b[0;32m-> 2313\u001b[0m \u001b[38;5;28;01mreturn\u001b[39;00m \u001b[43m_wrapreduction\u001b[49m\u001b[43m(\u001b[49m\u001b[43ma\u001b[49m\u001b[43m,\u001b[49m\u001b[43m \u001b[49m\u001b[43mnp\u001b[49m\u001b[38;5;241;43m.\u001b[39;49m\u001b[43madd\u001b[49m\u001b[43m,\u001b[49m\u001b[43m \u001b[49m\u001b[38;5;124;43m'\u001b[39;49m\u001b[38;5;124;43msum\u001b[39;49m\u001b[38;5;124;43m'\u001b[39;49m\u001b[43m,\u001b[49m\u001b[43m \u001b[49m\u001b[43maxis\u001b[49m\u001b[43m,\u001b[49m\u001b[43m \u001b[49m\u001b[43mdtype\u001b[49m\u001b[43m,\u001b[49m\u001b[43m \u001b[49m\u001b[43mout\u001b[49m\u001b[43m,\u001b[49m\u001b[43m \u001b[49m\u001b[43mkeepdims\u001b[49m\u001b[38;5;241;43m=\u001b[39;49m\u001b[43mkeepdims\u001b[49m\u001b[43m,\u001b[49m\n\u001b[1;32m   2314\u001b[0m \u001b[43m                      \u001b[49m\u001b[43minitial\u001b[49m\u001b[38;5;241;43m=\u001b[39;49m\u001b[43minitial\u001b[49m\u001b[43m,\u001b[49m\u001b[43m \u001b[49m\u001b[43mwhere\u001b[49m\u001b[38;5;241;43m=\u001b[39;49m\u001b[43mwhere\u001b[49m\u001b[43m)\u001b[49m\n",
      "File \u001b[0;32m/opt/homebrew/lib/python3.11/site-packages/numpy/core/fromnumeric.py:88\u001b[0m, in \u001b[0;36m_wrapreduction\u001b[0;34m(obj, ufunc, method, axis, dtype, out, **kwargs)\u001b[0m\n\u001b[1;32m     85\u001b[0m         \u001b[38;5;28;01melse\u001b[39;00m:\n\u001b[1;32m     86\u001b[0m             \u001b[38;5;28;01mreturn\u001b[39;00m reduction(axis\u001b[38;5;241m=\u001b[39maxis, out\u001b[38;5;241m=\u001b[39mout, \u001b[38;5;241m*\u001b[39m\u001b[38;5;241m*\u001b[39mpasskwargs)\n\u001b[0;32m---> 88\u001b[0m \u001b[38;5;28;01mreturn\u001b[39;00m \u001b[43mufunc\u001b[49m\u001b[38;5;241;43m.\u001b[39;49m\u001b[43mreduce\u001b[49m\u001b[43m(\u001b[49m\u001b[43mobj\u001b[49m\u001b[43m,\u001b[49m\u001b[43m \u001b[49m\u001b[43maxis\u001b[49m\u001b[43m,\u001b[49m\u001b[43m \u001b[49m\u001b[43mdtype\u001b[49m\u001b[43m,\u001b[49m\u001b[43m \u001b[49m\u001b[43mout\u001b[49m\u001b[43m,\u001b[49m\u001b[43m \u001b[49m\u001b[38;5;241;43m*\u001b[39;49m\u001b[38;5;241;43m*\u001b[39;49m\u001b[43mpasskwargs\u001b[49m\u001b[43m)\u001b[49m\n",
      "\u001b[0;31mKeyboardInterrupt\u001b[0m: "
     ]
    }
   ],
   "source": [
    "\n",
    "M_values = np.linspace(1, 3, 500)\n",
    "C_values = np.linspace(-1, 1, 500)\n",
    "best_C_array = np.full_like(M_values, best_C)\n",
    "best_chi2_anterior = np.inf\n",
    "diffChi2 = np.inf\n",
    "best_chi2 = best_chi\n",
    "k = 0\n",
    "\n",
    "while (diffChi2 > 10e-2 and k < 100):\n",
    "\n",
    "    k += 1\n",
    "\n",
    "    best_diff = np.inf\n",
    "    # Minimizar chi2 para M\n",
    "    chi2_grid = np.zeros((len(M_values), len(best_C_array)))\n",
    "\n",
    "    for i, M in enumerate(M_values):\n",
    "        for j, C in enumerate(best_C_array):\n",
    "\n",
    "            chi2_grid[i, j] = chi2(M, C)\n",
    "            diff = abs(chi2_grid[i, j] - (best_chi2+1))\n",
    "            if diff < best_diff:\n",
    "                best_chi2 = chi2_grid[i, j]\n",
    "                best_M2 = M\n",
    "                best_diff = diff\n",
    "\n",
    "    # Minimizar chi2 para lo que no es M\n",
    "\n",
    "    best_M_array = np.full_like(C_values, best_M2)\n",
    "\n",
    "    chi2_grid = np.zeros((len(best_M_array), len(C_values)))\n",
    "\n",
    "    for i, M in enumerate(best_M_array):\n",
    "        for j, C in enumerate(C_values):\n",
    "            \n",
    "            chi2_grid[i, j] = chi2(M, C)\n",
    "            if chi2_grid[i, j] < best_chi2:\n",
    "                best_chi2 = chi2_grid[i, j]\n",
    "                best_C2 = C\n",
    "\n",
    "    diffChi2 = abs(best_chi2 - best_chi2_anterior)\n",
    "\n",
    "    best_C_array = np.full_like(M_values, best_C2)\n",
    "\n",
    "    print(k)\n",
    "\n",
    "diffM = abs(best_M2 - best_M)\n",
    "diffM"
   ]
  },
  {
   "cell_type": "code",
   "execution_count": null,
   "metadata": {},
   "outputs": [
    {
     "name": "stdout",
     "output_type": "stream",
     "text": [
      "1000\n"
     ]
    }
   ],
   "source": [
    "best = best_chi\n",
    "previous_best = float('inf')\n",
    "previous_diff = float('inf')\n",
    "i = 0\n",
    "while (i<1000):\n",
    "    M_values = np.linspace(1, 3, 1000)\n",
    "    C = best_C\n",
    "    best_chi2_n = float('inf')\n",
    "    best_params = None\n",
    "\n",
    "    # busca mejor parametro\n",
    "    for M in M_values:\n",
    "            current_chi2 = chi2(M, C)\n",
    "            diff = abs(current_chi2 - (best+1))\n",
    "            if diff < 0.05 and diff < previous_diff:\n",
    "                best_chi2_n = current_chi2\n",
    "                M_best2 = M\n",
    "\n",
    "    previous_best = best\n",
    "    previous_diff = diff\n",
    "    best = chi2(M_best2, C)\n",
    "    i += 1\n",
    "\n",
    "\n",
    "print(i)\n",
    "difM = abs(M_best2 - best_M)\n",
    "\n",
    "best = best_chi\n",
    "previous_best = float('inf')\n",
    "previous_diff = float('inf')\n",
    "i = 0\n",
    "while (i<1000):\n",
    "    C_values = np.linspace(-1, 1, 1000)\n",
    "    M = best_M\n",
    "    best_chi2_n = float('inf')\n",
    "    best_params = None\n",
    "\n",
    "    # busca mejor parametro\n",
    "    for C in C_values:\n",
    "            current_chi2 = chi2(M, C)\n",
    "            diff = abs(current_chi2 - (best+1))\n",
    "            if diff < 0.05 and diff < previous_diff:\n",
    "                best_chi2_n = current_chi2\n",
    "                C_best2 = C\n",
    "\n",
    "    previous_best = best\n",
    "    previous_diff = diff\n",
    "    best = chi2(M, C_best2)\n",
    "    i += 1\n",
    "\n",
    "difC = abs(C_best2 - best_C)\n"
   ]
  },
  {
   "cell_type": "code",
   "execution_count": null,
   "metadata": {},
   "outputs": [
    {
     "data": {
      "text/plain": [
       "0.026026026026026106"
      ]
     },
     "execution_count": 285,
     "metadata": {},
     "output_type": "execute_result"
    }
   ],
   "source": [
    "difM"
   ]
  },
  {
   "cell_type": "code",
   "execution_count": null,
   "metadata": {},
   "outputs": [
    {
     "data": {
      "text/plain": [
       "0.02202202202202197"
      ]
     },
     "execution_count": 286,
     "metadata": {},
     "output_type": "execute_result"
    }
   ],
   "source": [
    "difC"
   ]
  }
 ],
 "metadata": {
  "kernelspec": {
   "display_name": "Python 3",
   "language": "python",
   "name": "python3"
  },
  "language_info": {
   "codemirror_mode": {
    "name": "ipython",
    "version": 3
   },
   "file_extension": ".py",
   "mimetype": "text/x-python",
   "name": "python",
   "nbconvert_exporter": "python",
   "pygments_lexer": "ipython3",
   "version": "3.11.9"
  }
 },
 "nbformat": 4,
 "nbformat_minor": 2
}
