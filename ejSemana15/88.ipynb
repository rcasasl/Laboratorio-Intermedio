{
 "cells": [
  {
   "cell_type": "code",
   "execution_count": 1,
   "metadata": {},
   "outputs": [],
   "source": [
    "import numpy as np\n",
    "import matplotlib.pyplot as plt"
   ]
  },
  {
   "cell_type": "code",
   "execution_count": 2,
   "metadata": {},
   "outputs": [],
   "source": [
    "frecuencia = np.array([0.025,0.05,0.075,0.1,0.125,0.150,0.175])\n",
    "voltaje = np.array([10.7,21.6,32.4,43.1,53.9,64.9,75.4])\n",
    "error = np.array([0.1,0.1,0.1,0.1,0.1,0.1,0.1])"
   ]
  },
  {
   "cell_type": "code",
   "execution_count": 3,
   "metadata": {},
   "outputs": [],
   "source": [
    "def calcular_c(err,x,y):\n",
    "\n",
    "    #calculo w\n",
    "    w = 1/np.square(err)\n",
    "\n",
    "    #terminos suma\n",
    "    a = np.sum(w*np.square(x))\n",
    "    b = np.sum(w*y)\n",
    "    c = np.sum(w*x)\n",
    "    d = np.sum(w*x*y)\n",
    "\n",
    "    #terminos delta\n",
    "    e = np.sum(w)\n",
    "    f = np.sum(w*np.square(x))\n",
    "    g = np.square(np.sum(w*x))\n",
    "    delta = f*e - g\n",
    "\n",
    "    #calculo c\n",
    "    c = (a*b - c*d)/delta\n",
    "\n",
    "    return c"
   ]
  },
  {
   "cell_type": "code",
   "execution_count": 4,
   "metadata": {},
   "outputs": [],
   "source": [
    "def calcular_m(err,x,y):\n",
    "\n",
    "    #calculo w\n",
    "    w = 1/np.square(err)\n",
    "\n",
    "    #terminos suma\n",
    "    a = np.sum(w)\n",
    "    b = np.sum(w*x*y)\n",
    "    c = np.sum(w*x)\n",
    "    d = np.sum(w*y)\n",
    "\n",
    "    #terminos delta\n",
    "    e = np.sum(w)\n",
    "    f = np.sum(w*np.square(x))\n",
    "    g = np.square(np.sum(w*x))\n",
    "    delta = f*e - g\n",
    "\n",
    "    #calculo m\n",
    "    m = (a*b - c*d)/delta\n",
    "\n",
    "    return m"
   ]
  },
  {
   "cell_type": "code",
   "execution_count": 5,
   "metadata": {},
   "outputs": [],
   "source": [
    "def calcular_ac(err,x):\n",
    "\n",
    "    #calculo w\n",
    "    w = 1/np.square(err)\n",
    "\n",
    "    #terminos suma\n",
    "    a = np.sum(w*np.square(x))\n",
    "\n",
    "    #terminos delta\n",
    "    e = np.sum(w)\n",
    "    f = np.sum(w*np.square(x))\n",
    "    g = np.square(np.sum(w*x))\n",
    "    delta = f*e - g\n",
    "\n",
    "    #calculo ac\n",
    "    ac = np.sqrt(a/delta)\n",
    "\n",
    "    return ac"
   ]
  },
  {
   "cell_type": "code",
   "execution_count": 6,
   "metadata": {},
   "outputs": [],
   "source": [
    "def calcular_am(err,x):\n",
    "    \n",
    "        #calculo w\n",
    "        w = 1/np.square(err)\n",
    "    \n",
    "        #terminos suma\n",
    "        a = np.sum(w)\n",
    "\n",
    "        #terminos delta\n",
    "        e = np.sum(w)\n",
    "        f = np.sum(w*np.square(x))\n",
    "        g = np.square(np.sum(w*x))\n",
    "        delta = f*e - g\n",
    "    \n",
    "        #calculo am\n",
    "        am = np.sqrt(a/delta)\n",
    "    \n",
    "        return am"
   ]
  },
  {
   "cell_type": "code",
   "execution_count": 7,
   "metadata": {},
   "outputs": [],
   "source": [
    "c = calcular_c(error,frecuencia,voltaje)\n",
    "m = calcular_m(error,frecuencia,voltaje)\n",
    "ac = calcular_ac(error,frecuencia)\n",
    "am = calcular_am(error,frecuencia)"
   ]
  },
  {
   "cell_type": "code",
   "execution_count": 8,
   "metadata": {},
   "outputs": [
    {
     "data": {
      "text/plain": [
       "-0.02857142857142859"
      ]
     },
     "execution_count": 8,
     "metadata": {},
     "output_type": "execute_result"
    }
   ],
   "source": [
    "c"
   ]
  },
  {
   "cell_type": "code",
   "execution_count": 9,
   "metadata": {},
   "outputs": [
    {
     "data": {
      "text/plain": [
       "431.71428571428567"
      ]
     },
     "execution_count": 9,
     "metadata": {},
     "output_type": "execute_result"
    }
   ],
   "source": [
    "m"
   ]
  },
  {
   "cell_type": "code",
   "execution_count": 10,
   "metadata": {},
   "outputs": [
    {
     "data": {
      "text/plain": [
       "0.0845154254728517"
      ]
     },
     "execution_count": 10,
     "metadata": {},
     "output_type": "execute_result"
    }
   ],
   "source": [
    "ac"
   ]
  },
  {
   "cell_type": "code",
   "execution_count": 11,
   "metadata": {},
   "outputs": [
    {
     "data": {
      "text/plain": [
       "0.7559289460184546"
      ]
     },
     "execution_count": 11,
     "metadata": {},
     "output_type": "execute_result"
    }
   ],
   "source": [
    "am"
   ]
  },
  {
   "cell_type": "code",
   "execution_count": 12,
   "metadata": {},
   "outputs": [
    {
     "data": {
      "image/png": "[encoded data removed]",
      "text/plain": [
       "<Figure size 640x480 with 1 Axes>"
      ]
     },
     "metadata": {},
     "output_type": "display_data"
    }
   ],
   "source": [
    "model = c + m*frecuencia\n",
    "residuals = voltaje-model\n",
    "normalized_residuals = residuals/error\n",
    "lagged = np.roll(normalized_residuals, -1)\n",
    "plt.plot(normalized_residuals, lagged, 'o')\n",
    "plt.grid()\n",
    "plt.show()"
   ]
  },
  {
   "cell_type": "code",
   "execution_count": 13,
   "metadata": {},
   "outputs": [],
   "source": [
    "def Durbin_Watson(residuals):\n",
    "    return np.sum(np.square(normalized_residuals-lagged))/np.sum(normalized_residuals**2)"
   ]
  },
  {
   "cell_type": "code",
   "execution_count": 14,
   "metadata": {},
   "outputs": [
    {
     "data": {
      "text/plain": [
       "2.73076923076919"
      ]
     },
     "execution_count": 14,
     "metadata": {},
     "output_type": "execute_result"
    }
   ],
   "source": [
    "D = Durbin_Watson(residuals)\n",
    "D"
   ]
  },
  {
   "cell_type": "code",
   "execution_count": 15,
   "metadata": {},
   "outputs": [
    {
     "data": {
      "image/png": "[encoded data removed]",
      "text/plain": [
       "<Figure size 640x480 with 1 Axes>"
      ]
     },
     "metadata": {},
     "output_type": "display_data"
    }
   ],
   "source": [
    "plt.scatter(frecuencia,voltaje,color='red')\n",
    "plt.plot(frecuencia,model,color='red')\n",
    "plt.errorbar(frecuencia,voltaje,error,fmt='o',color='black')\n",
    "plt.grid()\n",
    "plt.show()"
   ]
  },
  {
   "cell_type": "code",
   "execution_count": 16,
   "metadata": {},
   "outputs": [
    {
     "data": {
      "image/png": "[encoded data removed]",
      "text/plain": [
       "<Figure size 640x480 with 1 Axes>"
      ]
     },
     "metadata": {},
     "output_type": "display_data"
    }
   ],
   "source": [
    "plt.scatter(frecuencia,normalized_residuals,color='black')\n",
    "plt.grid()\n",
    "plt.show()"
   ]
  },
  {
   "cell_type": "code",
   "execution_count": 17,
   "metadata": {},
   "outputs": [],
   "source": [
    "def chi2(M, C):\n",
    "    res = ((voltaje - (M * frecuencia + C)) / error) ** 2\n",
    "    return np.sum(res)"
   ]
  },
  {
   "cell_type": "code",
   "execution_count": 18,
   "metadata": {},
   "outputs": [],
   "source": [
    "M_values = np.linspace(1, 3, 1000)\n",
    "C_values = np.linspace(-1, 1, 1000)\n",
    "best_chi = np.inf\n",
    "# Calculate chi-squared for each combination of parameters\n",
    "chi2_grid = np.zeros((len(M_values), len(C_values)))\n",
    "for i, M in enumerate(M_values):\n",
    "    for j, C in enumerate(C_values):\n",
    "        chi2_grid[i, j] = chi2(M, C)\n",
    "        if chi2_grid[i, j] < best_chi:\n",
    "            best_chi = chi2_grid[i, j]\n",
    "            best_M = M\n",
    "            best_C = C"
   ]
  },
  {
   "cell_type": "code",
   "execution_count": 19,
   "metadata": {},
   "outputs": [
    {
     "data": {
      "text/plain": [
       "3.0"
      ]
     },
     "execution_count": 19,
     "metadata": {},
     "output_type": "execute_result"
    }
   ],
   "source": [
    "best_M"
   ]
  },
  {
   "cell_type": "code",
   "execution_count": 20,
   "metadata": {},
   "outputs": [
    {
     "data": {
      "text/plain": [
       "1.0"
      ]
     },
     "execution_count": 20,
     "metadata": {},
     "output_type": "execute_result"
    }
   ],
   "source": [
    "best_C"
   ]
  },
  {
   "cell_type": "code",
   "execution_count": 21,
   "metadata": {},
   "outputs": [
    {
     "data": {
      "text/plain": [
       "1547225.75"
      ]
     },
     "execution_count": 21,
     "metadata": {},
     "output_type": "execute_result"
    }
   ],
   "source": [
    "best_chi"
   ]
  },
  {
   "cell_type": "code",
   "execution_count": 22,
   "metadata": {},
   "outputs": [
    {
     "data": {
      "text/plain": [
       "<matplotlib.contour.QuadContourSet at 0x118c972d0>"
      ]
     },
     "execution_count": 22,
     "metadata": {},
     "output_type": "execute_result"
    },
    {
     "data": {
      "image/png": "[encoded data removed]",
      "text/plain": [
       "<Figure size 640x480 with 1 Axes>"
      ]
     },
     "metadata": {},
     "output_type": "display_data"
    }
   ],
   "source": [
    "contour_levels = [best_chi + 1]  # Change in chi-squared of 1\n",
    "plt.contour(M_values, C_values, chi2_grid, levels=contour_levels, colors='r')"
   ]
  },
  {
   "cell_type": "code",
   "execution_count": 23,
   "metadata": {},
   "outputs": [
    {
     "ename": "NameError",
     "evalue": "name 'best_C2' is not defined",
     "output_type": "error",
     "traceback": [
      "\u001b[0;31m---------------------------------------------------------------------------\u001b[0m",
      "\u001b[0;31mNameError\u001b[0m                                 Traceback (most recent call last)",
      "Cell \u001b[0;32mIn[23], line 43\u001b[0m\n\u001b[1;32m     39\u001b[0m                 best_C2 \u001b[38;5;241m=\u001b[39m C\n\u001b[1;32m     41\u001b[0m     diffChi2 \u001b[38;5;241m=\u001b[39m \u001b[38;5;28mabs\u001b[39m(best_chi2 \u001b[38;5;241m-\u001b[39m best_chi2_anterior)\n\u001b[0;32m---> 43\u001b[0m     best_C_array \u001b[38;5;241m=\u001b[39m np\u001b[38;5;241m.\u001b[39mfull_like(M_values, \u001b[43mbest_C2\u001b[49m)\n\u001b[1;32m     45\u001b[0m     \u001b[38;5;28mprint\u001b[39m(k)\n\u001b[1;32m     47\u001b[0m diffM \u001b[38;5;241m=\u001b[39m \u001b[38;5;28mabs\u001b[39m(best_M2 \u001b[38;5;241m-\u001b[39m best_M)\n",
      "\u001b[0;31mNameError\u001b[0m: name 'best_C2' is not defined"
     ]
    }
   ],
   "source": [
    "\n",
    "M_values = np.linspace(1, 3, 500)\n",
    "C_values = np.linspace(-1, 1, 500)\n",
    "best_C_array = np.full_like(M_values, best_C)\n",
    "best_chi2_anterior = np.inf\n",
    "diffChi2 = np.inf\n",
    "best_chi2 = best_chi\n",
    "k = 0\n",
    "\n",
    "while (diffChi2 > 10e-2 and k < 100):\n",
    "\n",
    "    k += 1\n",
    "\n",
    "    best_diff = np.inf\n",
    "    # Minimizar chi2 para M\n",
    "    chi2_grid = np.zeros((len(M_values), len(best_C_array)))\n",
    "\n",
    "    for i, M in enumerate(M_values):\n",
    "        for j, C in enumerate(best_C_array):\n",
    "\n",
    "            chi2_grid[i, j] = chi2(M, C)\n",
    "            diff = abs(chi2_grid[i, j] - (best_chi2+1))\n",
    "            if diff < best_diff:\n",
    "                best_chi2 = chi2_grid[i, j]\n",
    "                best_M2 = M\n",
    "                best_diff = diff\n",
    "\n",
    "    # Minimizar chi2 para lo que no es M\n",
    "\n",
    "    best_M_array = np.full_like(C_values, best_M2)\n",
    "\n",
    "    chi2_grid = np.zeros((len(best_M_array), len(C_values)))\n",
    "\n",
    "    for i, M in enumerate(best_M_array):\n",
    "        for j, C in enumerate(C_values):\n",
    "            \n",
    "            chi2_grid[i, j] = chi2(M, C)\n",
    "            if chi2_grid[i, j] < best_chi2:\n",
    "                best_chi2 = chi2_grid[i, j]\n",
    "                best_C2 = C\n",
    "\n",
    "    diffChi2 = abs(best_chi2 - best_chi2_anterior)\n",
    "\n",
    "    best_C_array = np.full_like(M_values, best_C2)\n",
    "\n",
    "    print(k)\n",
    "\n",
    "diffM = abs(best_M2 - best_M)\n",
    "diffM"
   ]
  },
  {
   "cell_type": "code",
   "execution_count": null,
   "metadata": {},
   "outputs": [
    {
     "name": "stdout",
     "output_type": "stream",
     "text": [
      "1000\n"
     ]
    }
   ],
   "source": [
    "best = best_chi\n",
    "previous_best = float('inf')\n",
    "previous_diff = float('inf')\n",
    "i = 0\n",
    "while (i<1000):\n",
    "    M_values = np.linspace(1, 3, 1000)\n",
    "    C = best_C\n",
    "    best_chi2_n = float('inf')\n",
    "    best_params = None\n",
    "\n",
    "    # busca mejor parametro\n",
    "    for M in M_values:\n",
    "            current_chi2 = chi2(M, C)\n",
    "            diff = abs(current_chi2 - (best+1))\n",
    "            if diff < 0.05 and diff < previous_diff:\n",
    "                best_chi2_n = current_chi2\n",
    "                M_best2 = M\n",
    "\n",
    "    previous_best = best\n",
    "    previous_diff = diff\n",
    "    best = chi2(M_best2, C)\n",
    "    i += 1\n",
    "\n",
    "\n",
    "print(i)\n",
    "difM = abs(M_best2 - best_M)\n",
    "\n",
    "best = best_chi\n",
    "previous_best = float('inf')\n",
    "previous_diff = float('inf')\n",
    "i = 0\n",
    "while (i<1000):\n",
    "    C_values = np.linspace(-1, 1, 1000)\n",
    "    M = best_M\n",
    "    best_chi2_n = float('inf')\n",
    "    best_params = None\n",
    "\n",
    "    # busca mejor parametro\n",
    "    for C in C_values:\n",
    "            current_chi2 = chi2(M, C)\n",
    "            diff = abs(current_chi2 - (best+1))\n",
    "            if diff < 0.05 and diff < previous_diff:\n",
    "                best_chi2_n = current_chi2\n",
    "                C_best2 = C\n",
    "\n",
    "    previous_best = best\n",
    "    previous_diff = diff\n",
    "    best = chi2(M, C_best2)\n",
    "    i += 1\n",
    "\n",
    "difC = abs(C_best2 - best_C)\n"
   ]
  },
  {
   "cell_type": "code",
   "execution_count": null,
   "metadata": {},
   "outputs": [
    {
     "data": {
      "text/plain": [
       "0.026026026026026106"
      ]
     },
     "execution_count": 285,
     "metadata": {},
     "output_type": "execute_result"
    }
   ],
   "source": [
    "difM"
   ]
  },
  {
   "cell_type": "code",
   "execution_count": null,
   "metadata": {},
   "outputs": [
    {
     "data": {
      "text/plain": [
       "0.02202202202202197"
      ]
     },
     "execution_count": 286,
     "metadata": {},
     "output_type": "execute_result"
    }
   ],
   "source": [
    "difC"
   ]
  }
 ],
 "metadata": {
  "kernelspec": {
   "display_name": "Python 3",
   "language": "python",
   "name": "python3"
  },
  "language_info": {
   "codemirror_mode": {
    "name": "ipython",
    "version": 3
   },
   "file_extension": ".py",
   "mimetype": "text/x-python",
   "name": "python",
   "nbconvert_exporter": "python",
   "pygments_lexer": "ipython3",
   "version": "3.11.9"
  }
 },
 "nbformat": 4,
 "nbformat_minor": 2
}
